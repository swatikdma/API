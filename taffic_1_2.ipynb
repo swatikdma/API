{
  "nbformat": 4,
  "nbformat_minor": 0,
  "metadata": {
    "colab": {
      "name": "taffic_1_2.ipynb",
      "provenance": [],
      "collapsed_sections": [],
      "include_colab_link": true
    },
    "kernelspec": {
      "name": "python3",
      "display_name": "Python 3",
      "language": "python"
    },
    "language_info": {
      "name": "python",
      "version": "3.8.5"
    },
    "accelerator": "GPU"
  },
  "cells": [
    {
      "cell_type": "markdown",
      "metadata": {
        "id": "view-in-github",
        "colab_type": "text"
      },
      "source": [
        "<a href=\"https://colab.research.google.com/github/swatikdma/API/blob/main/taffic_1_2.ipynb\" target=\"_parent\"><img src=\"https://colab.research.google.com/assets/colab-badge.svg\" alt=\"Open In Colab\"/></a>"
      ]
    },
    {
      "cell_type": "code",
      "metadata": {
        "colab": {
          "base_uri": "https://localhost:8080/"
        },
        "id": "WPyFV-Fz-iUg",
        "outputId": "00158979-b7e6-4b78-c8f0-149b13b754d9"
      },
      "source": [
        "\n",
        "from google.colab import drive\n",
        "drive.mount('/content/gdrive')"
      ],
      "execution_count": 3,
      "outputs": [
        {
          "output_type": "stream",
          "text": [
            "Mounted at /content/gdrive\n"
          ],
          "name": "stdout"
        }
      ]
    },
    {
      "cell_type": "code",
      "metadata": {
        "id": "_b0QwdFZFLup"
      },
      "source": [
        "# !unzip /content/gdrive/MyDrive/Cpc/archive.zip"
      ],
      "execution_count": 2,
      "outputs": []
    },
    {
      "cell_type": "code",
      "metadata": {
        "id": "_UojdYXPG812"
      },
      "source": [
        " from sklearn import preprocessing\n",
        " import numpy as np\n",
        " X_trainX = np.array([[ 1., -1.,  2.],\n",
        "                     [ 2.,  0.,  0.],\n",
        "                     [ 0.,  1., -1.]])\n",
        " \n",
        "X_testX=X_trainX"
      ],
      "execution_count": 3,
      "outputs": []
    },
    {
      "cell_type": "code",
      "metadata": {
        "id": "2UZ-j0IsdgFp"
      },
      "source": [
        "import os\n",
        "path_tarin=\"/content/gdrive/MyDrive/Python-Project-Traffic-Sign-Classification/p/Train\"\n",
        "os.chdir(path_tarin)\n",
        "# os.chdir(\"0\")\n",
        "path = os.listdir()\n",
        "\n",
        "\n",
        "# os.getcwd()\n",
        "# path"
      ],
      "execution_count": 4,
      "outputs": []
    },
    {
      "cell_type": "code",
      "metadata": {
        "id": "NIz1KOx6fbfq"
      },
      "source": [
        "train_data=[]\n",
        "for i in range(43):\n",
        "    # get file names'\n",
        "    mypath = path_tarin+'/'+ path[i] + '/'\n",
        "    files = [mypath + f for f in os.listdir(mypath) if os.path.isfile(os.path.join(mypath, f))]\n",
        "    train_data.append(files)\n",
        "    # for fn in files:\n",
        "    #   try:"
      ],
      "execution_count": 6,
      "outputs": []
    },
    {
      "cell_type": "code",
      "metadata": {
        "id": "OkvyMPOOPOJE"
      },
      "source": [
        "train_data"
      ],
      "execution_count": null,
      "outputs": []
    },
    {
      "cell_type": "code",
      "metadata": {
        "id": "b_F83I87gsy9"
      },
      "source": [
        "# from PIL import Image\n",
        "\n",
        "# image = Image.open(\"/content/Train/0/00000_00000_00000.png\")\n",
        "# image = image.resize((30,30))"
      ],
      "execution_count": null,
      "outputs": []
    },
    {
      "cell_type": "code",
      "metadata": {
        "id": "y4gVTuZFpEbk"
      },
      "source": [
        "os.getcwd()\n",
        "os.chdir(\"..\")\n"
      ],
      "execution_count": 7,
      "outputs": []
    },
    {
      "cell_type": "code",
      "metadata": {
        "colab": {
          "base_uri": "https://localhost:8080/"
        },
        "id": "1OJZB8kiOoBE",
        "outputId": "03f97b2f-b11f-4652-93ad-72c39eec9874"
      },
      "source": [
        "!pwd"
      ],
      "execution_count": 13,
      "outputs": [
        {
          "output_type": "stream",
          "text": [
            "/content/gdrive/My Drive/Python-Project-Traffic-Sign-Classification\n"
          ],
          "name": "stdout"
        }
      ]
    },
    {
      "cell_type": "code",
      "metadata": {
        "colab": {
          "base_uri": "https://localhost:8080/"
        },
        "id": "Dd2t4cuhXjlO",
        "outputId": "afe46bae-2451-4697-8cea-71ea740cecb8"
      },
      "source": [
        "import numpy as np \n",
        "import pandas as pd \n",
        "import matplotlib.pyplot as plt\n",
        "import cv2\n",
        "import tensorflow as tf\n",
        "from PIL import Image,ImageOps\n",
        "import os\n",
        "from sklearn.model_selection import train_test_split\n",
        "from keras.utils import to_categorical\n",
        "from keras.models import Sequential, load_model\n",
        "from keras.layers import Conv2D, MaxPool2D, Dense, Flatten, Dropout\n",
        "\n",
        "data = []\n",
        "labels = []\n",
        "classes = 43\n",
        "cur_path = os.getcwd()\n",
        "\n",
        "i=0\n",
        "for files in train_data:\n",
        "    print(i)\n",
        "    for fil in files:\n",
        "        try:\n",
        "            # np.append(\"\\\\\")\n",
        "            image = Image.open(fil)\n",
        "            # image = ImageOps.grayscale(image)\n",
        "            image = image.resize((30,30))\n",
        "            image = np.array(image)\n",
        "\n",
        "            #sim = Image.fromarray(image)\n",
        "            data.append(image)\n",
        "            labels.append(i)\n",
        "        except:\n",
        "            print(\"Error loading image\")\n",
        "    i=i+1\n",
        "\n",
        "\n",
        "#Converting lists into numpy arrays\n",
        "data = np.array(data)\n",
        "labels = np.array(labels)\n",
        "\n",
        "\n",
        "print(data.shape, labels.shape)\n",
        "#Splitting training and testing dataset\n",
        "X_train, X_test, y_train, y_test = train_test_split(data, labels, test_size=0.2, random_state=42)\n",
        "\n",
        "#  noramliztion \n",
        "# scaler = preprocessing.StandardScaler().fit(X_trainX)\n",
        "# scaler = preprocessing.StandardScaler().fit(X_testX)\n",
        "\n",
        "\n",
        "print(X_train.shape, X_test.shape, y_train.shape, y_test.shape)\n",
        "\n",
        "#Converting the labels into one hot encoding\n",
        "y_train = to_categorical(y_train, 43)\n",
        "y_test = to_categorical(y_test, 43)\n",
        "\n"
      ],
      "execution_count": null,
      "outputs": [
        {
          "output_type": "stream",
          "text": [
            "0\n",
            "1\n"
          ],
          "name": "stdout"
        }
      ]
    },
    {
      "cell_type": "code",
      "metadata": {
        "id": "_tV7nUG9IOmH"
      },
      "source": [
        "#Building the model\n",
        "model = Sequential()\n",
        "model.add(Conv2D(filters=32, kernel_size=(5,5), activation='relu', input_shape=X_train.shape[1:]))\n",
        "model.add(Conv2D(filters=32, kernel_size=(5,5), activation='relu'))\n",
        "model.add(MaxPool2D(pool_size=(2, 2)))\n",
        "model.add(Dropout(rate=0.25))\n",
        "model.add(Conv2D(filters=64, kernel_size=(3, 3), activation='relu'))\n",
        "model.add(Conv2D(filters=64, kernel_size=(3, 3), activation='relu'))\n",
        "model.add(MaxPool2D(pool_size=(2, 2)))\n",
        "model.add(Dropout(rate=0.25))\n",
        "model.add(Flatten())\n",
        "model.add(Dense(256, activation='relu'))\n",
        "model.add(Dropout(rate=0.5))\n",
        "model.add(Dense(43, activation='softmax'))\n",
        "\n"
      ],
      "execution_count": 16,
      "outputs": []
    },
    {
      "cell_type": "code",
      "metadata": {
        "colab": {
          "base_uri": "https://localhost:8080/"
        },
        "id": "h6fHOSFDKAYO",
        "outputId": "86606d73-4bc3-4bc9-acae-6663dc226ff9"
      },
      "source": [
        "#Compilation of the model\n",
        "model.compile(loss='categorical_crossentropy', optimizer='adam', metrics=['accuracy'])\n",
        "\n",
        "epochs = 15\n",
        "history = model.fit(X_train, y_train, batch_size=32, epochs=epochs, validation_data=(X_test, y_test))\n",
        "model.save(\"my_model.h5\")\n",
        "\n"
      ],
      "execution_count": 17,
      "outputs": [
        {
          "output_type": "stream",
          "text": [
            "Epoch 1/15\n",
            "981/981 [==============================] - 134s 136ms/step - loss: 3.3751 - accuracy: 0.2845 - val_loss: 0.6736 - val_accuracy: 0.8313\n",
            "Epoch 2/15\n",
            "981/981 [==============================] - 133s 135ms/step - loss: 0.8349 - accuracy: 0.7480 - val_loss: 0.2023 - val_accuracy: 0.9424\n",
            "Epoch 3/15\n",
            "981/981 [==============================] - 132s 135ms/step - loss: 0.4706 - accuracy: 0.8596 - val_loss: 0.1231 - val_accuracy: 0.9661\n",
            "Epoch 4/15\n",
            "981/981 [==============================] - 132s 135ms/step - loss: 0.3495 - accuracy: 0.8992 - val_loss: 0.1011 - val_accuracy: 0.9732\n",
            "Epoch 5/15\n",
            "981/981 [==============================] - 133s 135ms/step - loss: 0.2799 - accuracy: 0.9189 - val_loss: 0.0972 - val_accuracy: 0.9722\n",
            "Epoch 6/15\n",
            "981/981 [==============================] - 132s 135ms/step - loss: 0.2690 - accuracy: 0.9240 - val_loss: 0.0947 - val_accuracy: 0.9730\n",
            "Epoch 7/15\n",
            "981/981 [==============================] - 132s 135ms/step - loss: 0.2528 - accuracy: 0.9261 - val_loss: 0.1077 - val_accuracy: 0.9693\n",
            "Epoch 8/15\n",
            "981/981 [==============================] - 133s 136ms/step - loss: 0.2777 - accuracy: 0.9239 - val_loss: 0.0754 - val_accuracy: 0.9799\n",
            "Epoch 9/15\n",
            "981/981 [==============================] - 134s 137ms/step - loss: 0.2038 - accuracy: 0.9402 - val_loss: 0.0989 - val_accuracy: 0.9726\n",
            "Epoch 10/15\n",
            "981/981 [==============================] - 132s 135ms/step - loss: 0.2412 - accuracy: 0.9333 - val_loss: 0.0557 - val_accuracy: 0.9852\n",
            "Epoch 11/15\n",
            "981/981 [==============================] - 133s 136ms/step - loss: 0.2103 - accuracy: 0.9420 - val_loss: 0.0593 - val_accuracy: 0.9837\n",
            "Epoch 12/15\n",
            "981/981 [==============================] - 133s 136ms/step - loss: 0.2138 - accuracy: 0.9401 - val_loss: 0.1363 - val_accuracy: 0.9635\n",
            "Epoch 13/15\n",
            "981/981 [==============================] - 133s 135ms/step - loss: 0.2288 - accuracy: 0.9395 - val_loss: 0.0602 - val_accuracy: 0.9824\n",
            "Epoch 14/15\n",
            "981/981 [==============================] - 133s 135ms/step - loss: 0.2163 - accuracy: 0.9433 - val_loss: 0.0772 - val_accuracy: 0.9795\n",
            "Epoch 15/15\n",
            "981/981 [==============================] - 133s 135ms/step - loss: 0.2105 - accuracy: 0.9428 - val_loss: 0.0864 - val_accuracy: 0.9754\n"
          ],
          "name": "stdout"
        }
      ]
    },
    {
      "cell_type": "code",
      "metadata": {
        "colab": {
          "base_uri": "https://localhost:8080/",
          "height": 573
        },
        "id": "KCy-1rV3KFdM",
        "outputId": "0f677ee8-6a4f-42d5-ca4d-29abde4a4247"
      },
      "source": [
        "#plotting graphs for accuracy \n",
        "plt.figure(0)\n",
        "plt.plot(history.history['accuracy'], label='training accuracy')\n",
        "plt.plot(history.history['val_accuracy'], label='val accuracy')\n",
        "plt.title('Accuracy')\n",
        "plt.xlabel('epochs')\n",
        "plt.ylabel('accuracy')\n",
        "plt.legend()\n",
        "plt.show()\n",
        "\n",
        "plt.figure(1)\n",
        "plt.plot(history.history['loss'], label='training loss')\n",
        "plt.plot(history.history['val_loss'], label='val loss')\n",
        "plt.title('Loss')\n",
        "plt.xlabel('epochs')\n",
        "plt.ylabel('loss')\n",
        "plt.legend()\n",
        "plt.show()\n",
        "\n"
      ],
      "execution_count": 18,
      "outputs": [
        {
          "output_type": "display_data",
          "data": {
            "image/png": "[encoded data removed]",
            "text/plain": [
              "<Figure size 432x288 with 1 Axes>"
            ]
          },
          "metadata": {
            "tags": [],
            "needs_background": "light"
          }
        },
        {
          "output_type": "display_data",
          "data": {
            "image/png": "[encoded data removed]",
            "text/plain": [
              "<Figure size 432x288 with 1 Axes>"
            ]
          },
          "metadata": {
            "tags": [],
            "needs_background": "light"
          }
        }
      ]
    },
    {
      "cell_type": "code",
      "metadata": {
        "colab": {
          "base_uri": "https://localhost:8080/",
          "height": 231
        },
        "id": "8E0UWfLKKK03",
        "outputId": "4cbe2866-b3b8-4c5b-9a96-f3407b6638ae"
      },
      "source": [
        "#testing accuracy on test dataset\n",
        "from sklearn.metrics import accuracy_score\n",
        "\n",
        "y_test = pd.read_csv(\"/content/gdrive/MyDrive/Python-Project-Traffic-Sign-Classification/p/Test.csv\")\n",
        "\n",
        "labels = y_test[\"ClassId\"].values\n",
        "imgs = y_test[\"Path\"].values\n",
        "\n",
        "data=[]\n",
        "\n",
        "for img in imgs:\n",
        "    image = Image.open('/content/gdrive/MyDrive/Python-Project-Traffic-Sign-Classification/p/'+img)\n",
        "    image = image.resize((30,30))\n",
        "    data.append(np.array(image))\n",
        "\n",
        "X_test=np.array(data)\n",
        "\n",
        "pred = model.predict_classes(X_test)\n",
        "\n"
      ],
      "execution_count": 1,
      "outputs": [
        {
          "output_type": "error",
          "ename": "NameError",
          "evalue": "ignored",
          "traceback": [
            "\u001b[0;31m---------------------------------------------------------------------------\u001b[0m",
            "\u001b[0;31mNameError\u001b[0m                                 Traceback (most recent call last)",
            "\u001b[0;32m<ipython-input-1-c086673e6148>\u001b[0m in \u001b[0;36m<module>\u001b[0;34m()\u001b[0m\n\u001b[1;32m      2\u001b[0m \u001b[0;32mfrom\u001b[0m \u001b[0msklearn\u001b[0m\u001b[0;34m.\u001b[0m\u001b[0mmetrics\u001b[0m \u001b[0;32mimport\u001b[0m \u001b[0maccuracy_score\u001b[0m\u001b[0;34m\u001b[0m\u001b[0;34m\u001b[0m\u001b[0m\n\u001b[1;32m      3\u001b[0m \u001b[0;34m\u001b[0m\u001b[0m\n\u001b[0;32m----> 4\u001b[0;31m \u001b[0my_test\u001b[0m \u001b[0;34m=\u001b[0m \u001b[0mpd\u001b[0m\u001b[0;34m.\u001b[0m\u001b[0mread_csv\u001b[0m\u001b[0;34m(\u001b[0m\u001b[0;34m\"/content/gdrive/MyDrive/Python-Project-Traffic-Sign-Classification/p/Test.csv\"\u001b[0m\u001b[0;34m)\u001b[0m\u001b[0;34m\u001b[0m\u001b[0;34m\u001b[0m\u001b[0m\n\u001b[0m\u001b[1;32m      5\u001b[0m \u001b[0;34m\u001b[0m\u001b[0m\n\u001b[1;32m      6\u001b[0m \u001b[0mlabels\u001b[0m \u001b[0;34m=\u001b[0m \u001b[0my_test\u001b[0m\u001b[0;34m[\u001b[0m\u001b[0;34m\"ClassId\"\u001b[0m\u001b[0;34m]\u001b[0m\u001b[0;34m.\u001b[0m\u001b[0mvalues\u001b[0m\u001b[0;34m\u001b[0m\u001b[0;34m\u001b[0m\u001b[0m\n",
            "\u001b[0;31mNameError\u001b[0m: name 'pd' is not defined"
          ]
        }
      ]
    },
    {
      "cell_type": "code",
      "metadata": {
        "id": "0kknNr62KORG"
      },
      "source": [
        "#Accuracy with the test data\n",
        "from sklearn.metrics import accuracy_score\n",
        "print(accuracy_score(labels, pred)*1000)\n",
        "\n",
        "model.save('traffic_classifier.h5')"
      ],
      "execution_count": null,
      "outputs": []
    },
    {
      "cell_type": "code",
      "metadata": {
        "id": "_Of5avn8YZbV"
      },
      "source": [
        "# !git clone https://github.com/rahulsonone1234/Traffic-Sign-Recognition"
      ],
      "execution_count": null,
      "outputs": []
    }
  ]
}